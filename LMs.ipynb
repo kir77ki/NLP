{
 "cells": [
  {
   "cell_type": "markdown",
   "metadata": {
    "id": "kglvvQ9KjR4b"
   },
   "source": [
    "### Language Models\n",
    "<img src='https://raw.githubusercontent.com/yandexdataschool/nlp_course/master/resources/expanding_mind_lm_kn_3.png' width=300px>"
   ]
  },
  {
   "cell_type": "code",
   "execution_count": 1,
   "metadata": {
    "id": "uWpA1c55jR4d"
   },
   "outputs": [],
   "source": [
    "import numpy as np\n",
    "import pandas as pd\n",
    "import matplotlib.pyplot as plt\n",
    "%matplotlib inline"
   ]
  },
  {
   "cell_type": "markdown",
   "metadata": {
    "id": "47Z2zpFKjR4e"
   },
   "source": [
    "Working on character level means that we don't need to deal with large vocabulary or missing words. Heck, we can even keep uppercase words in text! The downside, however, is that all our sequences just got a lot longer.\n",
    "\n",
    "However, we still need special tokens:\n",
    "* Begin Of Sequence  (__BOS__) - this token is at the start of each sequence. We use it so that we always have non-empty input to our neural network. $P(x_t) = P(x_1 | BOS)$\n",
    "* End Of Sequence (__EOS__) - you guess it... this token is at the end of each sequence. The catch is that it should __not__ occur anywhere else except at the very end. If our model produces this token, the sequence is over.\n"
   ]
  },
  {
   "cell_type": "code",
   "execution_count": 2,
   "metadata": {
    "colab": {
     "base_uri": "https://localhost:8080/"
    },
    "id": "8dvypDlljsfr",
    "outputId": "78cb02ee-48a5-47df-b870-55f68d875b74"
   },
   "outputs": [
    {
     "name": "stdout",
     "output_type": "stream",
     "text": [
      "--2023-10-05 09:00:16--  https://www.dropbox.com/s/99az9n1b57qkd9j/arxivData.json.tar.gz?dl=1\n",
      "Resolving www.dropbox.com (www.dropbox.com)... 162.125.5.18, 2620:100:601d:18::a27d:512\n",
      "Connecting to www.dropbox.com (www.dropbox.com)|162.125.5.18|:443... connected.\n",
      "HTTP request sent, awaiting response... 302 Found\n",
      "Location: /s/dl/99az9n1b57qkd9j/arxivData.json.tar.gz [following]\n",
      "--2023-10-05 09:00:16--  https://www.dropbox.com/s/dl/99az9n1b57qkd9j/arxivData.json.tar.gz\n",
      "Reusing existing connection to www.dropbox.com:443.\n",
      "HTTP request sent, awaiting response... 302 Found\n",
      "Location: https://ucfe32ec8ca2acd5788185977128.dl.dropboxusercontent.com/cd/0/get/CFDCf0IHLlWcxVWDPSKMInFP4qtTufH38uUZ72IDAZOFb4A2XGECmBX6X5eWlDhMDzaXv8T79wl5fKODYkbqjSiEFjGrjNBF9cKSHLhntq__GT3XVCzK4tYT1pVhd5M714Y/file?dl=1# [following]\n",
      "--2023-10-05 09:00:17--  https://ucfe32ec8ca2acd5788185977128.dl.dropboxusercontent.com/cd/0/get/CFDCf0IHLlWcxVWDPSKMInFP4qtTufH38uUZ72IDAZOFb4A2XGECmBX6X5eWlDhMDzaXv8T79wl5fKODYkbqjSiEFjGrjNBF9cKSHLhntq__GT3XVCzK4tYT1pVhd5M714Y/file?dl=1\n",
      "Resolving ucfe32ec8ca2acd5788185977128.dl.dropboxusercontent.com (ucfe32ec8ca2acd5788185977128.dl.dropboxusercontent.com)... 162.125.5.15, 2620:100:601d:15::a27d:50f\n",
      "Connecting to ucfe32ec8ca2acd5788185977128.dl.dropboxusercontent.com (ucfe32ec8ca2acd5788185977128.dl.dropboxusercontent.com)|162.125.5.15|:443... connected.\n",
      "HTTP request sent, awaiting response... 200 OK\n",
      "Length: 18933283 (18M) [application/binary]\n",
      "Saving to: ‘arxivData.json.tar.gz’\n",
      "\n",
      "arxivData.json.tar. 100%[===================>]  18.06M  57.9MB/s    in 0.3s    \n",
      "\n",
      "2023-10-05 09:00:18 (57.9 MB/s) - ‘arxivData.json.tar.gz’ saved [18933283/18933283]\n",
      "\n",
      "arxivData.json\n"
     ]
    }
   ],
   "source": [
    "!wget \"https://www.dropbox.com/s/99az9n1b57qkd9j/arxivData.json.tar.gz?dl=1\" -O arxivData.json.tar.gz\n",
    "!tar -xvzf arxivData.json.tar.gz"
   ]
  },
  {
   "cell_type": "code",
   "execution_count": 3,
   "metadata": {
    "id": "nHsBleCxjR4e"
   },
   "outputs": [],
   "source": [
    "BOS, EOS = ' ', '\\n'\n",
    "\n",
    "data = pd.read_json(\"./arxivData.json\")\n",
    "lines = data.apply(lambda row: (row['title'] + ' ; ' + row['summary'])[:512], axis=1) \\\n",
    "            .apply(lambda line: BOS + line.replace(EOS, ' ') + EOS) \\\n",
    "            .tolist()"
   ]
  },
  {
   "cell_type": "markdown",
   "metadata": {
    "id": "4FL2_eekjR4e"
   },
   "source": [
    "Our next step is __building char-level vocabulary__. Put simply, you need to assemble a list of all unique tokens in the dataset."
   ]
  },
  {
   "cell_type": "code",
   "execution_count": 4,
   "metadata": {
    "colab": {
     "base_uri": "https://localhost:8080/"
    },
    "id": "-TE9laRyjR4f",
    "outputId": "d7d9da20-9f1e-4f43-9306-fe8f0840306f"
   },
   "outputs": [
    {
     "name": "stdout",
     "output_type": "stream",
     "text": [
      "n_tokens =  136\n"
     ]
    }
   ],
   "source": [
    "# get all unique characters from lines (including capital letters and symbols)\n",
    "chars = set()\n",
    "for line in lines:\n",
    "  chars = chars.union(set(line))\n",
    "tokens = list(chars)\n",
    "\n",
    "tokens = sorted(tokens)\n",
    "n_tokens = len(tokens)\n",
    "print ('n_tokens = ',n_tokens)\n",
    "assert 100 < n_tokens < 150\n",
    "assert BOS in tokens, EOS in tokens"
   ]
  },
  {
   "cell_type": "markdown",
   "metadata": {
    "id": "X9siocVajR4f"
   },
   "source": [
    "We can now assign each character with its index in tokens list. This way we can encode a string into a torch-friendly integer vector."
   ]
  },
  {
   "cell_type": "code",
   "execution_count": 5,
   "metadata": {
    "id": "eZ3WdLaSjR4f"
   },
   "outputs": [],
   "source": [
    "# dictionary of character -> its identifier (index in tokens list)\n",
    "token_to_id = dict()\n",
    "for i in range(n_tokens):\n",
    "  token_to_id[tokens[i]] = i"
   ]
  },
  {
   "cell_type": "code",
   "execution_count": 6,
   "metadata": {
    "colab": {
     "base_uri": "https://localhost:8080/"
    },
    "id": "pvsG6HnZjR4f",
    "outputId": "8415e2a3-ed3d-465a-ca53-3f1a5b828674"
   },
   "outputs": [
    {
     "name": "stdout",
     "output_type": "stream",
     "text": [
      "Seems alright!\n"
     ]
    }
   ],
   "source": [
    "assert len(tokens) == len(token_to_id), \"dictionaries must have same size\"\n",
    "for i in range(n_tokens):\n",
    "    assert token_to_id[tokens[i]] == i, \"token identifier must be it's position in tokens list\"\n",
    "\n",
    "print(\"Seems alright!\")"
   ]
  },
  {
   "cell_type": "markdown",
   "metadata": {
    "id": "f1FRxmxujR4f"
   },
   "source": [
    "Our final step is to assemble several strings in a integer matrix with shape `[batch_size, text_length]`.\n",
    "\n",
    "The only problem is that each sequence has a different length. We can work around that by padding short sequences with extra `\"EOS\"` tokens or cropping long sequences. Here's how it works:"
   ]
  },
  {
   "cell_type": "code",
   "execution_count": 7,
   "metadata": {
    "id": "TrYNf0pbjR4f"
   },
   "outputs": [],
   "source": [
    "def to_matrix(lines, max_len=None, pad=token_to_id[EOS], dtype=np.int64):\n",
    "    \"\"\"Casts a list of lines into torch-digestable matrix\"\"\"\n",
    "    max_len = max_len or max(map(len, lines))\n",
    "    lines_ix = np.full([len(lines), max_len], pad, dtype=dtype)\n",
    "    for i in range(len(lines)):\n",
    "        line_ix = list(map(token_to_id.get, lines[i][:max_len]))\n",
    "        lines_ix[i, :len(line_ix)] = line_ix\n",
    "    return lines_ix"
   ]
  },
  {
   "cell_type": "code",
   "execution_count": 8,
   "metadata": {
    "colab": {
     "base_uri": "https://localhost:8080/"
    },
    "id": "lNg2lmOnjR4g",
    "outputId": "4a75c217-261c-4213-82dd-8cc055065220"
   },
   "outputs": [
    {
     "name": "stdout",
     "output_type": "stream",
     "text": [
      "[[ 1 66 67 68  0  0  0  0  0  0  0  0  0  0  0]\n",
      " [ 1 66 67 66 68 66 67 66  0  0  0  0  0  0  0]\n",
      " [ 1 66 67 68 18 19 20 21 22 23 24 25 26 17  0]]\n"
     ]
    }
   ],
   "source": [
    "#Example: cast 4 random names to a single matrix, pad with zeros where needed.\n",
    "dummy_lines = [\n",
    "    ' abc\\n',\n",
    "    ' abacaba\\n',\n",
    "    ' abc1234567890\\n',\n",
    "]\n",
    "print(to_matrix(dummy_lines))\n",
    "\n"
   ]
  },
  {
   "cell_type": "markdown",
   "metadata": {
    "id": "8ouylPixjR4g"
   },
   "source": [
    "### Neural Language Model\n",
    "\n",
    "Just like for N-gram LMs, we want to estimate probability of text as a joint probability of tokens (symbols this time).\n",
    "\n",
    "$$P(X) = \\prod_t P(x_t \\mid x_0, \\dots, x_{t-1}).$$\n",
    "\n",
    "Instead of counting all possible statistics, we want to train a neural network with parameters $\\theta$ that estimates the conditional probabilities:\n",
    "\n",
    "$$ P(x_t \\mid x_0, \\dots, x_{t-1}) \\approx p(x_t \\mid x_0, \\dots, x_{t-1}, \\theta) $$\n",
    "\n",
    "\n",
    "But before we optimize, we need to define our neural network. Let's start with a fixed-window (aka convolutional) architecture:\n",
    "\n",
    "<img src='https://raw.githubusercontent.com/yandexdataschool/nlp_course/master/resources/fixed_window_lm.jpg' width=400px>\n"
   ]
  },
  {
   "cell_type": "code",
   "execution_count": 9,
   "metadata": {
    "id": "GEEhIQCqjR4g"
   },
   "outputs": [],
   "source": [
    "import torch\n",
    "import torch.nn as nn\n",
    "import torch.nn.functional as F"
   ]
  },
  {
   "cell_type": "markdown",
   "metadata": {},
   "source": [
    "Интересно, что будет, если мы обучим модель без головы. Затем обучим нормальную модель и сравним результаты"
   ]
  },
  {
   "cell_type": "code",
   "execution_count": 10,
   "metadata": {
    "id": "N82vXojTjR4g"
   },
   "outputs": [],
   "source": [
    "class FixedWindowLanguageModel(nn.Module):\n",
    "    def __init__(self, n_tokens=n_tokens, emb_size=16, hid_size=64):\n",
    "        \"\"\"\n",
    "        A fixed window model that looks on at least 5 previous symbols.\n",
    "\n",
    "        Note: fixed window LM is effectively performing a convolution over a sequence of words.\n",
    "        This convolution only looks on current and previous words.\n",
    "        Such convolution can be represented as a sequence of 2 operations:\n",
    "        - pad input vectors by {strides * (filter_size - 1)} zero vectors on the \"left\", do not pad right\n",
    "        - perform regular convolution with {filter_size} and {strides}\n",
    "\n",
    "        - If you're absolutely lost, here's a hint: use nn.ZeroPad2d((NUM_LEADING_ZEROS, 0, 0, 0))\n",
    "          followed by a nn.Conv1d(..., padding=0). And yes, its okay that padding is technically \"2d\".\n",
    "        \"\"\"\n",
    "        super().__init__() # initialize base class to track sub-layers, trainable variables, etc.\n",
    "\n",
    "        self.n_tokens = n_tokens\n",
    "        self.emb = torch.nn.Embedding(n_tokens, emb_size)\n",
    "        NUM_LEADING_ZEROS = 10\n",
    "        self.pad = nn.ZeroPad2d((NUM_LEADING_ZEROS, 0, 0, 0))\n",
    "        self.conv0 = nn.Conv1d(emb_size, emb_size, NUM_LEADING_ZEROS + 1, padding=0)\n",
    "        self.conv1 = nn.Conv1d(emb_size, emb_size * 2, NUM_LEADING_ZEROS + 1, padding=0)\n",
    "        self.conv2 = nn.Conv1d(emb_size * 2, emb_size * 4, NUM_LEADING_ZEROS + 1, padding=0)\n",
    "        self.conv3 = nn.Conv1d(emb_size * 4, emb_size * 4, NUM_LEADING_ZEROS + 1, padding=0)\n",
    "        self.conv4 = nn.Conv1d(emb_size * 4, emb_size * 8, NUM_LEADING_ZEROS + 1, padding=0)\n",
    "        self.conv5 = nn.Conv1d(emb_size * 8, n_tokens, NUM_LEADING_ZEROS + 1, padding=0)\n",
    "        self.relu = torch.nn.ReLU()\n",
    "        self.drop = torch.nn.Dropout(0.2)\n",
    "\n",
    "    def __call__(self, input_ix):\n",
    "        \"\"\"\n",
    "        compute language model logits given input tokens\n",
    "        :param input_ix: batch of sequences with token indices, tensor: int32[batch_size, sequence_length]\n",
    "        :returns: pre-softmax linear outputs of language model [batch_size, sequence_length, n_tokens]\n",
    "            these outputs will be used as logits to compute P(x_t | x_0, ..., x_{t - 1})\n",
    "\n",
    "        :note: that convolutions operate with tensors of shape [batch, channels, length], while linear layers\n",
    "         and *embeddings* use [batch, length, channels] tensors. Use tensor.permute(...) to adjust shapes.\n",
    "\n",
    "        \"\"\"\n",
    "        embs = self.emb(input_ix)\n",
    "        embs = embs.transpose(2, 1)\n",
    "\n",
    "        x = self.conv0(self.pad(embs))\n",
    "        x = self.relu(x)\n",
    "        x = self.drop(x)\n",
    "\n",
    "        x = self.conv1(self.pad(x))\n",
    "        x = self.relu(x)\n",
    "        x = self.drop(x)\n",
    "\n",
    "        x = self.conv2(self.pad(x))\n",
    "        x = self.relu(x)\n",
    "        x = self.drop(x)\n",
    "\n",
    "        x = self.conv3(self.pad(x))\n",
    "        x = self.relu(x)\n",
    "        x = self.drop(x)\n",
    "\n",
    "        x = self.conv4(self.pad(x))\n",
    "        x = self.relu(x)\n",
    "        x = self.drop(x)\n",
    "\n",
    "        x = self.conv5(self.pad(x))\n",
    "        x = self.relu(x)\n",
    "        x = self.drop(x)\n",
    "        \n",
    "        return x.permute(0, 2, 1)\n",
    "\n",
    "    def get_possible_next_tokens(self, prefix=BOS, temperature=1.0, max_len=100):\n",
    "        \"\"\" :returns: probabilities of next token, dict {token : prob} for all tokens \"\"\"\n",
    "        prefix_ix = torch.as_tensor(to_matrix([prefix]), dtype=torch.int64)\n",
    "        with torch.no_grad():\n",
    "            probs = torch.softmax(self(prefix_ix)[0, -1], dim=-1).cpu().numpy()  # shape: [n_tokens]\n",
    "        return dict(zip(tokens, probs))\n"
   ]
  },
  {
   "cell_type": "code",
   "execution_count": 11,
   "metadata": {
    "colab": {
     "base_uri": "https://localhost:8080/"
    },
    "id": "9_qRe34mjR4g",
    "outputId": "b8d4e314-a6f6-43ea-f8a4-b8dcad3db7f3"
   },
   "outputs": [
    {
     "name": "stdout",
     "output_type": "stream",
     "text": [
      "Weights: ('emb.weight', 'conv0.weight', 'conv0.bias', 'conv1.weight', 'conv1.bias', 'conv2.weight', 'conv2.bias', 'conv3.weight', 'conv3.bias', 'conv4.weight', 'conv4.bias', 'conv5.weight', 'conv5.bias')\n"
     ]
    }
   ],
   "source": [
    "dummy_model = FixedWindowLanguageModel()\n",
    "dummy_model.eval()  # выкллючаем dropout\n",
    "\n",
    "dummy_input_ix = torch.as_tensor(to_matrix(dummy_lines))\n",
    "dummy_logits = dummy_model(dummy_input_ix)\n",
    "\n",
    "print('Weights:', tuple(name for name, w in dummy_model.named_parameters()))"
   ]
  },
  {
   "cell_type": "code",
   "execution_count": 12,
   "metadata": {
    "colab": {
     "base_uri": "https://localhost:8080/"
    },
    "id": "LseOx_zGjR4g",
    "outputId": "e87db7f5-0eaf-4f30-8f42-3f516ca275cd"
   },
   "outputs": [
    {
     "name": "stdout",
     "output_type": "stream",
     "text": [
      "Seems alright!\n"
     ]
    }
   ],
   "source": [
    "assert isinstance(dummy_logits, torch.Tensor)\n",
    "assert dummy_logits.shape == (len(dummy_lines), max(map(len, dummy_lines)), n_tokens), \"please check output shape\"\n",
    "assert np.all(np.isfinite(dummy_logits.data.cpu().numpy())), \"inf/nan encountered\"\n",
    "assert not np.allclose(dummy_logits.data.cpu().numpy().sum(-1), 1), \"please predict linear outputs, don't use softmax (maybe you've just got unlucky)\"\n",
    "print(\"Seems alright!\")"
   ]
  },
  {
   "cell_type": "code",
   "execution_count": 13,
   "metadata": {
    "colab": {
     "base_uri": "https://localhost:8080/"
    },
    "id": "UT7ardUajR4h",
    "outputId": "5d9b074b-9db7-4f6c-c364-a7bffb14d805"
   },
   "outputs": [
    {
     "name": "stdout",
     "output_type": "stream",
     "text": [
      "Seems alright!\n"
     ]
    }
   ],
   "source": [
    "# test for lookahead\n",
    "dummy_input_ix_2 = torch.as_tensor(to_matrix([line[:3] + 'e' * (len(line) - 3) for line in dummy_lines]))\n",
    "dummy_logits_2 = dummy_model(dummy_input_ix_2)\n",
    "\n",
    "dummy_model.eval()\n",
    "with torch.no_grad():\n",
    "  assert torch.allclose(dummy_logits[:, :3], dummy_logits_2[:, :3]), \"your model's predictions depend on FUTURE tokens. \" \\\n",
    "      \" Make sure you don't allow any layers to look ahead of current token.\" \\\n",
    "      \" You can also get this error if your model is not deterministic (e.g. dropout). Disable it for this test.\"\n",
    "print(\"Seems alright!\")"
   ]
  },
  {
   "cell_type": "markdown",
   "metadata": {
    "id": "ocO93x4BjR4h"
   },
   "source": [
    "We can now tune our network's parameters to minimize categorical crossentropy over training dataset $D$:\n",
    "\n",
    "$$ L = {\\frac1{|D|}} \\sum_{X \\in D} \\sum_{x_i \\in X} - \\log p(x_t \\mid x_1, \\dots, x_{t-1}, \\theta) $$\n",
    "\n",
    "As usual with with neural nets, this optimization is performed via stochastic gradient descent with backprop.  One can also note that minimizing crossentropy is equivalent to minimizing model __perplexity__, KL-divergence or maximizng log-likelihood."
   ]
  },
  {
   "cell_type": "code",
   "execution_count": 14,
   "metadata": {
    "colab": {
     "base_uri": "https://localhost:8080/"
    },
    "id": "Ta7SInIojR4h",
    "outputId": "6b9c6ad8-f4f6-492b-c3c5-4910447ffa7f"
   },
   "outputs": [
    {
     "name": "stdout",
     "output_type": "stream",
     "text": [
      "matrix:\n",
      " [[ 1 66 67 68  0  0  0  0  0  0  0  0  0  0  0]\n",
      " [ 1 66 67 66 68 66 67 66  0  0  0  0  0  0  0]\n",
      " [ 1 66 67 68 18 19 20 21 22 23 24 25 26 17  0]]\n",
      "mask: [[1 1 1 1 1 0 0 0 0 0 0 0 0 0 0]\n",
      " [1 1 1 1 1 1 1 1 1 0 0 0 0 0 0]\n",
      " [1 1 1 1 1 1 1 1 1 1 1 1 1 1 1]]\n",
      "lengths: [ 5  9 15]\n"
     ]
    }
   ],
   "source": [
    "def compute_mask(input_ix, eos_ix=token_to_id[EOS]):\n",
    "    \"\"\" compute a boolean mask that equals \"1\" until first EOS (including that EOS) \"\"\"\n",
    "    return F.pad(torch.cumsum(input_ix == eos_ix, dim=-1)[..., :-1] < 1, pad=(1, 0, 0, 0), value=True)\n",
    "\n",
    "print('matrix:\\n', dummy_input_ix.numpy())\n",
    "print('mask:', compute_mask(dummy_input_ix).to(torch.int32).cpu().numpy())\n",
    "print('lengths:', compute_mask(dummy_input_ix).sum(-1).cpu().numpy())"
   ]
  },
  {
   "cell_type": "code",
   "execution_count": 15,
   "metadata": {
    "id": "IVMaxsYhjR4h"
   },
   "outputs": [],
   "source": [
    "def compute_loss(model, input_ix):\n",
    "    \"\"\"\n",
    "    :param model: language model that can compute next token logits given token indices\n",
    "    :param input ix: int32 matrix of tokens, shape: [batch_size, length]; padded with eos_ix\n",
    "    :returns: scalar loss function, mean crossentropy over non-eos tokens\n",
    "    \"\"\"\n",
    "    input_ix = torch.as_tensor(input_ix, dtype=torch.int64)\n",
    "\n",
    "\n",
    "    logits = model(input_ix[:, :-1])\n",
    "    reference_answers = input_ix[:, 1:]\n",
    "\n",
    "    mask = compute_mask(input_ix) # [batch_size, out_len]\n",
    "    targets_1hot = F.one_hot(reference_answers, model.n_tokens)\n",
    "\n",
    "    # log-probabilities всех токенов на всех шагах\n",
    "    logprobs_seq = F.log_softmax(logits, dim=-1) # [batch_size, out_len, num_tokens]\n",
    "\n",
    "    # log-probabilities для верных ответов\n",
    "    logp_out = (logprobs_seq * targets_1hot).sum(dim=-1) # [batch_size, out_len]\n",
    "\n",
    "    # cross-entropy по всем токенам где mask == True\n",
    "    return -logp_out[mask[:, 1:]].mean()"
   ]
  },
  {
   "cell_type": "code",
   "execution_count": 16,
   "metadata": {
    "colab": {
     "base_uri": "https://localhost:8080/"
    },
    "id": "nG7ZwOxmjR4h",
    "outputId": "b736f5e6-22fd-46ef-edb0-18b84789e05d"
   },
   "outputs": [
    {
     "name": "stdout",
     "output_type": "stream",
     "text": [
      "Seems alright!\n"
     ]
    }
   ],
   "source": [
    "loss_1 = compute_loss(dummy_model, to_matrix(dummy_lines, max_len=15))\n",
    "loss_2 = compute_loss(dummy_model, to_matrix(dummy_lines, max_len=16))\n",
    "assert (np.ndim(loss_1) == 0) and (0 < loss_1 < 100), \"loss must be a positive scalar\"\n",
    "assert torch.allclose(loss_1, loss_2), 'do not include  AFTER first EOS into loss. '\\\n",
    "    'Hint: use compute_mask. Beware +/-1 errors. And be careful when averaging!'\n",
    "print(\"Seems alright!\")"
   ]
  },
  {
   "cell_type": "markdown",
   "metadata": {
    "id": "Acq732d_jR4h"
   },
   "source": [
    "### Evaluation\n",
    "\n",
    "You will need two functions: one to compute test loss and another to generate samples. For your convenience, we implemented them both in your stead."
   ]
  },
  {
   "cell_type": "code",
   "execution_count": 17,
   "metadata": {
    "id": "9NhqGw0IjR4h"
   },
   "outputs": [],
   "source": [
    "def score_lines(model, dev_lines, batch_size):\n",
    "    \"\"\" computes average loss over the entire dataset \"\"\"\n",
    "    dev_loss_num, dev_loss_len = 0., 0.\n",
    "    with torch.no_grad():\n",
    "        for i in range(0, len(dev_lines), batch_size):\n",
    "            batch_ix = to_matrix(dev_lines[i: i + batch_size])\n",
    "            dev_loss_num += compute_loss(model, batch_ix).item() * len(batch_ix)\n",
    "            dev_loss_len += len(batch_ix)\n",
    "    return dev_loss_num / dev_loss_len\n",
    "\n",
    "def generate(model, prefix=BOS, temperature=1.0, max_len=100):\n",
    "    \"\"\"\n",
    "    Samples output sequence from probability distribution obtained by model\n",
    "    :param temperature: samples proportionally to model probabilities ^ temperature\n",
    "        if temperature == 0, always takes most likely token. Break ties arbitrarily.\n",
    "    \"\"\"\n",
    "    with torch.no_grad():\n",
    "        while True:\n",
    "            token_probs = model.get_possible_next_tokens(prefix)\n",
    "            tokens, probs = zip(*token_probs.items())\n",
    "            if temperature == 0:\n",
    "                next_token = tokens[np.argmax(probs)]\n",
    "            else:\n",
    "                probs = np.array([p ** (1. / temperature) for p in probs])\n",
    "                probs /= sum(probs)\n",
    "                next_token = np.random.choice(tokens, p=probs)\n",
    "\n",
    "            prefix += next_token\n",
    "            if next_token == EOS or len(prefix) > max_len: break\n",
    "    return prefix"
   ]
  },
  {
   "cell_type": "markdown",
   "metadata": {
    "id": "llWpalddjR4h"
   },
   "source": [
    "### Training loop\n",
    "\n",
    "Finally, let's train our model on minibatches of data"
   ]
  },
  {
   "cell_type": "code",
   "execution_count": null,
   "metadata": {
    "colab": {
     "base_uri": "https://localhost:8080/"
    },
    "id": "Wo2l8vvhjR4i",
    "outputId": "24de1876-7050-4afc-b250-787974dc08c0"
   },
   "outputs": [
    {
     "name": "stdout",
     "output_type": "stream",
     "text": [
      "Sample before training: BridgingG;ŁγPμ\n",
      "\n"
     ]
    }
   ],
   "source": [
    "from sklearn.model_selection import train_test_split\n",
    "train_lines, dev_lines = train_test_split(lines, test_size=0.25, random_state=42)\n",
    "\n",
    "batch_size = 256\n",
    "score_dev_every = 250\n",
    "train_history, dev_history = [], []\n",
    "model = FixedWindowLanguageModel()\n",
    "opt = torch.optim.Adam(model.parameters())\n",
    "\n",
    "# score untrained model\n",
    "dev_history.append((0, score_lines(model, dev_lines, batch_size)))\n",
    "print(\"Sample before training:\", generate(model, 'Bridging'))"
   ]
  },
  {
   "cell_type": "markdown",
   "metadata": {
    "id": "puWUyfjfr1oE"
   },
   "source": [
    "Кажется тут сказали что-то неприличное"
   ]
  },
  {
   "cell_type": "code",
   "execution_count": null,
   "metadata": {
    "colab": {
     "base_uri": "https://localhost:8080/",
     "height": 579
    },
    "id": "WVrBlpVQjR4i",
    "outputId": "6abf7db1-f4c4-4433-c62c-f877078f4d59"
   },
   "outputs": [
    {
     "data": {
      "image/png": "[encoded data removed]",
      "text/plain": [
       "<Figure size 640x480 with 1 Axes>"
      ]
     },
     "metadata": {},
     "output_type": "display_data"
    },
    {
     "name": "stdout",
     "output_type": "stream",
     "text": [
      "Generated examples (tau=0.5):\n",
      " Tonticg veted deettien fatelite ondyse anger tos bes done tha deen to prose ennotith iftiri ane pros\n",
      " Proser an or antargenn on tonrin on wor fosd sate as tre ponte mavo to etponsertitaÜi an dacilenii o\n",
      " Preban irdeci temanttos centen en tene afege &argenel con ta tenw frasilren an ton bon senee bote ta\n",
      "Scoring dev...\n"
     ]
    },
    {
     "name": "stderr",
     "output_type": "stream",
     "text": [
      "\r",
      " 25%|██▍       | 1245/4995 [2:36:42<38:33:09, 37.01s/it]"
     ]
    },
    {
     "name": "stdout",
     "output_type": "stream",
     "text": [
      "#1249 Dev loss: 3.214\n"
     ]
    },
    {
     "name": "stderr",
     "output_type": "stream",
     "text": [
      "\r",
      " 25%|██▍       | 1246/4995 [2:36:49<29:05:22, 27.93s/it]"
     ]
    }
   ],
   "source": [
    "from IPython.display import clear_output\n",
    "from random import sample\n",
    "from tqdm import trange\n",
    "from google.colab import files\n",
    "\n",
    "for i in trange(len(train_history), 5000):\n",
    "    batch = to_matrix(sample(train_lines, batch_size))\n",
    "\n",
    "\n",
    "    loss_i = compute_loss(model, batch)\n",
    "\n",
    "    opt.zero_grad()\n",
    "    loss_i.backward()\n",
    "    opt.step()\n",
    "\n",
    "    train_history.append((i, loss_i.item()))\n",
    "\n",
    "    if (i + 1) % 50 == 0:\n",
    "        clear_output(True)\n",
    "        plt.scatter(*zip(*train_history), alpha=0.1, label='train_loss')\n",
    "        if len(dev_history):\n",
    "            plt.plot(*zip(*dev_history), color='red', label='dev_loss')\n",
    "        plt.legend(); plt.grid(); plt.show()\n",
    "        print(\"Generated examples (tau=0.5):\")\n",
    "        for _ in range(3):\n",
    "            print(generate(model, temperature=0.5))\n",
    "\n",
    "    if (i + 1) % score_dev_every == 0:\n",
    "        print(\"Scoring dev...\")\n",
    "        dev_history.append((i, score_lines(model, dev_lines, batch_size)))\n",
    "        print('#%i Dev loss: %.3f' % dev_history[-1])\n",
    "        torch.save(model.state_dict(), 'conv_model_epoch' + str(i))\n",
    "    if (i + 1) % (score_dev_every) == 5  and i != 4:\n",
    "        files.download('conv_model_epoch' + str(i - 5))"
   ]
  },
  {
   "cell_type": "markdown",
   "metadata": {
    "id": "RGaitsIWyYuO"
   },
   "source": [
    "Тут коллаб сдох, но я модельки сохранял, так что сейчас продолжим. Кстати, уже более менее - иногда возникают осмысленные слова (обычно короткие, длинные модельке еще тяжело генерить), между словами (не обязательно осмысленными) всего один пробел, по длине слов тоже нет выбросов. Общая структура предложений выучилась, осталось только начать писать осмысленные слова во всех случаях"
   ]
  },
  {
   "cell_type": "code",
   "execution_count": null,
   "metadata": {
    "id": "WPKnet4NxjY0"
   },
   "outputs": [],
   "source": [
    "model = FixedWindowLanguageModel()\n",
    "model.load_state_dict(torch.load('conv_model_epoch999'))\n",
    "opt = torch.optim.Adam(model.parameters())"
   ]
  },
  {
   "cell_type": "code",
   "execution_count": null,
   "metadata": {
    "colab": {
     "base_uri": "https://localhost:8080/"
    },
    "id": "kVnLqJzHxjbP",
    "outputId": "4d3f4bb2-f218-4868-aa9a-4c34e634f9ac"
   },
   "outputs": [
    {
     "name": "stdout",
     "output_type": "stream",
     "text": [
      "Sample before training: Bridging tfeTtanr\" hom$*t æmt\n",
      "\n"
     ]
    }
   ],
   "source": [
    "from sklearn.model_selection import train_test_split\n",
    "train_lines, dev_lines = train_test_split(lines, test_size=0.25, random_state=42)\n",
    "\n",
    "batch_size = 256\n",
    "score_dev_every = 250\n",
    "train_history, dev_history = [], []\n",
    "dev_history.append((0, score_lines(model, dev_lines, batch_size)))\n",
    "print(\"Sample before training:\", generate(model, 'Bridging'))"
   ]
  },
  {
   "cell_type": "code",
   "execution_count": null,
   "metadata": {
    "colab": {
     "base_uri": "https://localhost:8080/",
     "height": 524
    },
    "id": "KYI7bfmGyBBP",
    "outputId": "d91f4ac0-d285-4343-ed0e-3a444ccb8f39"
   },
   "outputs": [
    {
     "data": {
      "image/png": "[encoded data removed]",
      "text/plain": [
       "<Figure size 640x480 with 1 Axes>"
      ]
     },
     "metadata": {},
     "output_type": "display_data"
    },
    {
     "metadata": {
      "tags": null
     },
     "name": "stdout",
     "output_type": "stream",
     "text": [
      "Generated examples (tau=0.5):\n",
      " Retoete and as oming dinzarlit of man to nosade partiber tornssin bagwedi gete dattivint tor that in\n",
      " In thi fact deupen .n enseation in a satpenente inpented ans wine than in reesation on a tavh frarne\n"
     ]
    },
    {
     "metadata": {
      "tags": null
     },
     "name": "stderr",
     "output_type": "stream",
     "text": [
      "\r",
      " 22%|██▎       | 900/4000 [2:01:28<7:03:15,  8.19s/it]"
     ]
    },
    {
     "metadata": {
      "tags": null
     },
     "name": "stdout",
     "output_type": "stream",
     "text": [
      " Anemωingi in Amplivatiorilen ferlinang Dealt@onssy and angigice tomes of thei poptire ratdor fo sree\n"
     ]
    },
    {
     "name": "stderr",
     "output_type": "stream",
     "text": [
      " 23%|██▎       | 916/4000 [2:03:28<6:24:05,  7.47s/it]"
     ]
    }
   ],
   "source": [
    "from IPython.display import clear_output\n",
    "from random import sample\n",
    "from tqdm import trange\n",
    "from google.colab import files\n",
    "\n",
    "for i in trange(len(train_history), 4000): # уже 1000 эпох обучили, так что теперь итоговое количество поменьше\n",
    "    batch = to_matrix(sample(train_lines, batch_size))\n",
    "\n",
    "    loss_i = compute_loss(model, batch)\n",
    "\n",
    "    opt.zero_grad()\n",
    "    loss_i.backward()\n",
    "    opt.step()\n",
    "\n",
    "    train_history.append((i, loss_i.item()))\n",
    "\n",
    "    if (i + 1) % 50 == 0:\n",
    "        clear_output(True)\n",
    "        plt.scatter(*zip(*train_history), alpha=0.1, label='train_loss')\n",
    "        if len(dev_history):\n",
    "            plt.plot(*zip(*dev_history), color='red', label='dev_loss')\n",
    "        plt.legend(); plt.grid(); plt.show()\n",
    "        print(\"Generated examples (tau=0.5):\")\n",
    "        for _ in range(3):\n",
    "            print(generate(model, temperature=0.5))\n",
    "\n",
    "    if (i + 1) % score_dev_every == 0:\n",
    "        print(\"Scoring dev...\")\n",
    "        dev_history.append((i, score_lines(model, dev_lines, batch_size)))\n",
    "        print('#%i Dev loss: %.3f' % dev_history[-1])\n",
    "        torch.save(model.state_dict(), 'conv_model_epoch' + str(i + 1000))\n",
    "    if (i + 1) % (score_dev_every) == 5  and i != 4:\n",
    "        files.download('conv_model_epoch' + str(i - 5 + 1000))"
   ]
  },
  {
   "cell_type": "markdown",
   "metadata": {
    "id": "nPxTyVddKV1M"
   },
   "source": [
    "Снова продолжаем с момента остановки (ну почти)"
   ]
  },
  {
   "cell_type": "code",
   "execution_count": null,
   "metadata": {
    "colab": {
     "base_uri": "https://localhost:8080/"
    },
    "id": "LbwRgzinKIHR",
    "outputId": "f3846011-89ee-4c2a-8722-bbf4119cce62"
   },
   "outputs": [
    {
     "name": "stdout",
     "output_type": "stream",
     "text": [
      "Sample before training: Bridging ~oterc μSvijrïsΩy τnγ *U' the c-pImemetKãy the mNe 'afpitslteryà hostega medgic!!a? êrmyled \n"
     ]
    }
   ],
   "source": [
    "model = FixedWindowLanguageModel()\n",
    "model.load_state_dict(torch.load('conv_model_epoch1749'))\n",
    "opt = torch.optim.Adam(model.parameters())\n",
    "\n",
    "from sklearn.model_selection import train_test_split\n",
    "train_lines, dev_lines = train_test_split(lines, test_size=0.25, random_state=42)\n",
    "\n",
    "batch_size = 256\n",
    "score_dev_every = 250\n",
    "train_history, dev_history = [], []\n",
    "dev_history.append((0, score_lines(model, dev_lines, batch_size)))\n",
    "print(\"Sample before training:\", generate(model, 'Bridging'))"
   ]
  },
  {
   "cell_type": "code",
   "execution_count": null,
   "metadata": {
    "colab": {
     "base_uri": "https://localhost:8080/",
     "height": 524
    },
    "id": "N3-wgWTNKIJ7",
    "outputId": "94122584-ee8e-4042-ab69-4bc4f8b9e80a"
   },
   "outputs": [
    {
     "data": {
      "image/png": "[encoded data removed]",
      "text/plain": [
       "<Figure size 640x480 with 1 Axes>"
      ]
     },
     "metadata": {},
     "output_type": "display_data"
    },
    {
     "metadata": {
      "tags": null
     },
     "name": "stdout",
     "output_type": "stream",
     "text": [
      "Generated examples (tau=0.5):\n",
      " A nem entice Deśtlinn Carsroltite ray Ascolving an seirs tor bamelit in to to dev co os the prosiΩer\n",
      " @n Cor Dame fear Decert íanser for tha angitiencitalisl of as these of beles is and coUne ateχten to\n"
     ]
    },
    {
     "metadata": {
      "tags": null
     },
     "name": "stderr",
     "output_type": "stream",
     "text": [
      "\r",
      " 12%|█▏        | 400/3250 [54:18<6:31:14,  8.24s/it]"
     ]
    },
    {
     "metadata": {
      "tags": null
     },
     "name": "stdout",
     "output_type": "stream",
     "text": [
      " An A a Yangar An the segerelangds an andloncence topos in3 ated thogs5t an th[tes tratssig methorss \n"
     ]
    },
    {
     "name": "stderr",
     "output_type": "stream",
     "text": [
      " 13%|█▎        | 438/3250 [59:00<5:38:36,  7.23s/it]"
     ]
    }
   ],
   "source": [
    "from IPython.display import clear_output\n",
    "from random import sample\n",
    "from tqdm import trange\n",
    "from google.colab import files\n",
    "\n",
    "for i in trange(len(train_history), 3250): # уже 1750 эпох обучили, так что теперь итоговое количество поменьше\n",
    "    batch = to_matrix(sample(train_lines, batch_size))\n",
    "\n",
    "\n",
    "    loss_i = compute_loss(model, batch)\n",
    "\n",
    "    opt.zero_grad()\n",
    "    loss_i.backward()\n",
    "    opt.step()\n",
    "\n",
    "    train_history.append((i, loss_i.item()))\n",
    "\n",
    "    if (i + 1) % 50 == 0:\n",
    "        clear_output(True)\n",
    "        plt.scatter(*zip(*train_history), alpha=0.1, label='train_loss')\n",
    "        if len(dev_history):\n",
    "            plt.plot(*zip(*dev_history), color='red', label='dev_loss')\n",
    "        plt.legend(); plt.grid(); plt.show()\n",
    "        print(\"Generated examples (tau=0.5):\")\n",
    "        for _ in range(3):\n",
    "            print(generate(model, temperature=0.5))\n",
    "\n",
    "    if (i + 1) % score_dev_every == 0:\n",
    "        print(\"Scoring dev...\")\n",
    "        dev_history.append((i, score_lines(model, dev_lines, batch_size)))\n",
    "        print('#%i Dev loss: %.3f' % dev_history[-1])\n",
    "        torch.save(model.state_dict(), 'conv_model_epoch' + str(i + 1750))\n",
    "    if (i + 1) % (score_dev_every) == 5  and i != 4:\n",
    "        files.download('conv_model_epoch' + str(i - 5 + 1750))"
   ]
  },
  {
   "cell_type": "markdown",
   "metadata": {
    "id": "r2h51uPMWP_M"
   },
   "source": [
    "Ну ладно, чего дальше время тратить, обучать неверную модель. Да, она что-то учит, все не так плохо, но просто очень долго. Перейдем лучше к нормальной модели"
   ]
  },
  {
   "cell_type": "code",
   "execution_count": 18,
   "metadata": {
    "id": "75Dy7qbn-GXd"
   },
   "outputs": [],
   "source": [
    "class FixedWindowLanguageModel1(nn.Module):\n",
    "    def __init__(self, n_tokens=n_tokens, emb_size=16, hid_size=64):\n",
    "        \"\"\"\n",
    "        A fixed window model that looks on at least 5 previous symbols.\n",
    "\n",
    "        Note: fixed window LM is effectively performing a convolution over a sequence of words.\n",
    "        This convolution only looks on current and previous words.\n",
    "        Such convolution can be represented as a sequence of 2 operations:\n",
    "        - pad input vectors by {strides * (filter_size - 1)} zero vectors on the \"left\", do not pad right\n",
    "        - perform regular convolution with {filter_size} and {strides}\n",
    "\n",
    "        - If you're absolutely lost, here's a hint: use nn.ZeroPad2d((NUM_LEADING_ZEROS, 0, 0, 0))\n",
    "          followed by a nn.Conv1d(..., padding=0). And yes, its okay that padding is technically \"2d\".\n",
    "        \"\"\"\n",
    "        super().__init__() # initialize base class to track sub-layers, trainable variables, etc.\n",
    "\n",
    "        self.n_tokens = n_tokens\n",
    "        self.emb = torch.nn.Embedding(n_tokens, emb_size)\n",
    "        NUM_LEADING_ZEROS = 8\n",
    "        self.pad = nn.ZeroPad2d((NUM_LEADING_ZEROS, 0, 0, 0))\n",
    "        self.conv0 = nn.Conv1d(emb_size, emb_size * 2, NUM_LEADING_ZEROS + 1, padding=0)\n",
    "        self.conv1 = nn.Conv1d(emb_size * 2, emb_size * 4, NUM_LEADING_ZEROS + 1, padding=0)\n",
    "        self.conv2 = nn.Conv1d(emb_size * 4, emb_size * 4, NUM_LEADING_ZEROS + 1, padding=0)\n",
    "        self.conv3 = nn.Conv1d(emb_size * 4, emb_size * 8, NUM_LEADING_ZEROS + 1, padding=0)\n",
    "        self.relu = torch.nn.ReLU()\n",
    "        self.drop = torch.nn.Dropout(0.2)\n",
    "        self.Lin1 = torch.nn.Linear(emb_size * 8, emb_size * 4)\n",
    "        self.Lin2 = torch.nn.Linear(emb_size * 4, n_tokens)\n",
    "\n",
    "    def __call__(self, input_ix):\n",
    "        \"\"\"\n",
    "        compute language model logits given input tokens\n",
    "        :param input_ix: batch of sequences with token indices, tensor: int32[batch_size, sequence_length]\n",
    "        :returns: pre-softmax linear outputs of language model [batch_size, sequence_length, n_tokens]\n",
    "            these outputs will be used as logits to compute P(x_t | x_0, ..., x_{t - 1})\n",
    "\n",
    "        :note: that convolutions operate with tensors of shape [batch, channels, length], while linear layers\n",
    "         and *embeddings* use [batch, length, channels] tensors. Use tensor.permute(...) to adjust shapes.\n",
    "\n",
    "        \"\"\"\n",
    "        embs = self.emb(input_ix)\n",
    "        embs = embs.transpose(2, 1)\n",
    "\n",
    "        x = self.conv0(self.pad(embs))\n",
    "        x = self.relu(x)\n",
    "        x = self.drop(x)\n",
    "\n",
    "        x = self.conv1(self.pad(x))\n",
    "        x = self.relu(x)\n",
    "        x = self.drop(x)\n",
    "\n",
    "        x = self.conv2(self.pad(x))\n",
    "        x = self.relu(x)\n",
    "        x = self.drop(x)\n",
    "\n",
    "        x = self.conv3(self.pad(x))\n",
    "        x = self.relu(x)\n",
    "        x = self.drop(x)\n",
    "        x = x.permute(0, 2, 1)\n",
    "\n",
    "        return self.Lin2(self.drop(self.relu(self.Lin1(x))))\n",
    "\n",
    "    def get_possible_next_tokens(self, prefix=BOS, temperature=1.0, max_len=100):\n",
    "        \"\"\" :returns: probabilities of next token, dict {token : prob} for all tokens \"\"\"\n",
    "        prefix_ix = torch.as_tensor(to_matrix([prefix]), dtype=torch.int64)\n",
    "        with torch.no_grad():\n",
    "            probs = torch.softmax(self(prefix_ix)[0, -1], dim=-1).cpu().numpy()  # shape: [n_tokens]\n",
    "        return dict(zip(tokens, probs))"
   ]
  },
  {
   "cell_type": "code",
   "execution_count": 19,
   "metadata": {
    "colab": {
     "base_uri": "https://localhost:8080/"
    },
    "id": "tQ8FGTcQnecf",
    "outputId": "1e747536-949a-4c78-8b89-ea773ce44ae1"
   },
   "outputs": [
    {
     "name": "stdout",
     "output_type": "stream",
     "text": [
      "Weights: ('emb.weight', 'conv0.weight', 'conv0.bias', 'conv1.weight', 'conv1.bias', 'conv2.weight', 'conv2.bias', 'conv3.weight', 'conv3.bias', 'Lin1.weight', 'Lin1.bias', 'Lin2.weight', 'Lin2.bias')\n"
     ]
    }
   ],
   "source": [
    "dummy_model = FixedWindowLanguageModel1()\n",
    "dummy_model.eval()  # выкллючаем dropout\n",
    "\n",
    "dummy_input_ix = torch.as_tensor(to_matrix(dummy_lines))\n",
    "dummy_logits = dummy_model(dummy_input_ix)\n",
    "\n",
    "print('Weights:', tuple(name for name, w in dummy_model.named_parameters()))"
   ]
  },
  {
   "cell_type": "code",
   "execution_count": 20,
   "metadata": {
    "colab": {
     "base_uri": "https://localhost:8080/"
    },
    "id": "PxH-d1tvn4ja",
    "outputId": "6a8f1c81-bf12-410a-87a3-451e3bf024b8"
   },
   "outputs": [
    {
     "name": "stdout",
     "output_type": "stream",
     "text": [
      "Seems alright!\n"
     ]
    }
   ],
   "source": [
    "assert isinstance(dummy_logits, torch.Tensor)\n",
    "assert dummy_logits.shape == (len(dummy_lines), max(map(len, dummy_lines)), n_tokens), \"please check output shape\"\n",
    "assert np.all(np.isfinite(dummy_logits.data.cpu().numpy())), \"inf/nan encountered\"\n",
    "assert not np.allclose(dummy_logits.data.cpu().numpy().sum(-1), 1), \"please predict linear outputs, don't use softmax (maybe you've just got unlucky)\"\n",
    "print(\"Seems alright!\")"
   ]
  },
  {
   "cell_type": "code",
   "execution_count": 21,
   "metadata": {
    "colab": {
     "base_uri": "https://localhost:8080/"
    },
    "id": "-Rms2Drxn4mN",
    "outputId": "c7e02f34-ff5b-45f6-d3e6-be58921356c0"
   },
   "outputs": [
    {
     "name": "stdout",
     "output_type": "stream",
     "text": [
      "Seems alright!\n"
     ]
    }
   ],
   "source": [
    "# test for lookahead\n",
    "dummy_input_ix_2 = torch.as_tensor(to_matrix([line[:3] + 'e' * (len(line) - 3) for line in dummy_lines]))\n",
    "dummy_logits_2 = dummy_model(dummy_input_ix_2)\n",
    "\n",
    "dummy_model.eval()\n",
    "with torch.no_grad():\n",
    "  assert torch.allclose(dummy_logits[:, :3], dummy_logits_2[:, :3]), \"your model's predictions depend on FUTURE tokens. \" \\\n",
    "      \" Make sure you don't allow any layers to look ahead of current token.\" \\\n",
    "      \" You can also get this error if your model is not deterministic (e.g. dropout). Disable it for this test.\"\n",
    "print(\"Seems alright!\")"
   ]
  },
  {
   "cell_type": "code",
   "execution_count": null,
   "metadata": {
    "colab": {
     "base_uri": "https://localhost:8080/"
    },
    "id": "JaURNJRGTOHx",
    "outputId": "6b57af95-1b09-4b21-ce85-7a5e959c9e35"
   },
   "outputs": [
    {
     "name": "stdout",
     "output_type": "stream",
     "text": [
      "Sample before training: Bridging#pSYτ\n",
      "\n"
     ]
    }
   ],
   "source": [
    "from sklearn.model_selection import train_test_split\n",
    "train_lines, dev_lines = train_test_split(lines, test_size=0.25, random_state=42)\n",
    "\n",
    "batch_size = 64\n",
    "score_dev_every = 250\n",
    "train_history, dev_history = [], []\n",
    "model = FixedWindowLanguageModel1()\n",
    "opt = torch.optim.Adam(model.parameters())\n",
    "\n",
    "# hint: if you ever wanted to switch to cuda, do it now.\n",
    "\n",
    "# score untrained model\n",
    "dev_history.append((0, score_lines(model, dev_lines, batch_size)))\n",
    "print(\"Sample before training:\", generate(model, 'Bridging'))"
   ]
  },
  {
   "cell_type": "code",
   "execution_count": null,
   "metadata": {
    "colab": {
     "base_uri": "https://localhost:8080/",
     "height": 562
    },
    "id": "yn6Fo2X6TjSx",
    "outputId": "373d7903-af66-4f3e-a3c1-6c1aca238830"
   },
   "outputs": [
    {
     "data": {
      "image/png": "[encoded data removed]",
      "text/plain": [
       "<Figure size 640x480 with 1 Axes>"
      ]
     },
     "metadata": {},
     "output_type": "display_data"
    },
    {
     "name": "stdout",
     "output_type": "stream",
     "text": [
      "Generated examples (tau=0.5):\n",
      " Stration Method be Several hech Leeveing us comares and in the intitality and a nenition in the repr\n",
      " Vetion explacar algorithms for the enary of the comte in retection fhamewo the improments whethet to\n",
      " Sonsimied Dependins ; The nestence for the solve as the aring as into structur sile a proposed a an \n",
      "Scoring dev...\n"
     ]
    },
    {
     "name": "stderr",
     "output_type": "stream",
     "text": [
      "100%|██████████| 5000/5000 [1:16:42<00:00,  1.09it/s]"
     ]
    },
    {
     "name": "stdout",
     "output_type": "stream",
     "text": [
      "#4999 Dev loss: 1.731\n"
     ]
    },
    {
     "name": "stderr",
     "output_type": "stream",
     "text": [
      "\n"
     ]
    }
   ],
   "source": [
    "from IPython.display import clear_output\n",
    "from random import sample\n",
    "from tqdm import trange\n",
    "from google.colab import files\n",
    "\n",
    "for i in trange(len(train_history), 5000):\n",
    "    batch = to_matrix(sample(train_lines, batch_size))\n",
    "\n",
    "    loss_i = compute_loss(model, batch)\n",
    "\n",
    "    opt.zero_grad()\n",
    "    loss_i.backward()\n",
    "    opt.step()\n",
    "\n",
    "    train_history.append((i, loss_i.item()))\n",
    "\n",
    "    if (i + 1) % 50 == 0:\n",
    "        clear_output(True)\n",
    "        plt.scatter(*zip(*train_history), alpha=0.1, label='train_loss')\n",
    "        if len(dev_history):\n",
    "            plt.plot(*zip(*dev_history), color='red', label='dev_loss')\n",
    "        plt.legend(); plt.grid(); plt.show()\n",
    "        print(\"Generated examples (tau=0.5):\")\n",
    "        for _ in range(3):\n",
    "            print(generate(model, temperature=0.5))\n",
    "\n",
    "    if (i + 1) % score_dev_every == 0:\n",
    "        print(\"Scoring dev...\")\n",
    "        dev_history.append((i, score_lines(model, dev_lines, batch_size)))\n",
    "        print('#%i Dev loss: %.3f' % dev_history[-1])\n",
    "        torch.save(model.state_dict(), 'conv_model_fixed_epoch' + str(i))\n",
    "    if (i + 1) % (score_dev_every) == 5 and i != 4:\n",
    "        files.download('conv_model_fixed_epoch' + str(i - 5))"
   ]
  },
  {
   "cell_type": "code",
   "execution_count": null,
   "metadata": {
    "colab": {
     "base_uri": "https://localhost:8080/"
    },
    "id": "nis7KFDajR4i",
    "outputId": "b43b741e-e291-4f43-ce3d-30dd836a876b"
   },
   "outputs": [
    {
     "name": "stdout",
     "output_type": "stream",
     "text": [
      "Final dev loss: 1.7305274307204457\n",
      " Learning Simule Anhunences ; In the and baswing the bet to the tark in in the and semacting that dat\n",
      " Ofein Search objhriciol to estimation of optimization and the compassion of the curter a semporical \n",
      " An Worke Resubting in Handy which ;e companel as ween computer and and to the to the modio section a\n",
      " Word Prorlimication ; Textarce problem of the proxunt-a speciser of teconsify a that mane    inderpe\n",
      " Inteptad of Matrins Moth Method for Coxline stance ; This secarse of the from a spartical tor the as\n",
      " Carcul Meare Statisting and Demectitian  Metimation ; We sole expritent in engent of the image the n\n",
      " Rocognition ; The most and a sigcleifi\n",
      "\n",
      " Analesing Menter ; We pireeration and exploring varitity on the proposing in the nest measure a sera\n",
      " Bepeding Entine New the ; Combiting the exabphesitiod and and the selness of to betos are of in conn\n",
      " And An intartical Shalsed In Scontemendation ; This convarur in a poral autodatically the problem th\n"
     ]
    }
   ],
   "source": [
    "assert np.mean(train_history[:10], axis=0)[1] > np.mean(train_history[-10:], axis=0)[1], \"The model didn't converge.\"\n",
    "print(\"Final dev loss:\", dev_history[-1][-1])\n",
    "\n",
    "for i in range(10):\n",
    "    print(generate(model, temperature=0.5))"
   ]
  },
  {
   "cell_type": "markdown",
   "metadata": {
    "id": "_I8FpUq26CRX"
   },
   "source": [
    "Так, конечно, гораздо лучше - все быстрее учится, лосс лучше падает, появляется гораздо больше осмысленных слов (и состоящих не из трех букв). Можно даже еще пообучать, видно, что есть потенциал."
   ]
  },
  {
   "cell_type": "code",
   "execution_count": null,
   "metadata": {
    "id": "fkaswY0X7LhQ"
   },
   "outputs": [],
   "source": [
    "for g in opt.param_groups: # чуть-чуть уменьшим шаг обучения, чтобы лучше сойтись\n",
    "    g['lr'] = 0.0005"
   ]
  },
  {
   "cell_type": "code",
   "execution_count": null,
   "metadata": {
    "colab": {
     "base_uri": "https://localhost:8080/",
     "height": 562
    },
    "id": "uXAQVdoa6l2B",
    "outputId": "57fb9aef-7d64-4d7f-e711-f8424b4984bd"
   },
   "outputs": [
    {
     "data": {
      "image/png": "[encoded data removed]",
      "text/plain": [
       "<Figure size 640x480 with 1 Axes>"
      ]
     },
     "metadata": {},
     "output_type": "display_data"
    },
    {
     "name": "stdout",
     "output_type": "stream",
     "text": [
      "Generated examples (tau=0.5):\n",
      " Desin Wh Tore as goct onears stolanty are of techniques complete for time networks revine sttime on \n",
      " The Models ; The results and in the proposed to a detecting in a featew as shen recerding in the mak\n",
      " A deepeng bah to extending an a stouded in the to separity seanch on a to fenned in the targe for co\n",
      "Scoring dev...\n"
     ]
    },
    {
     "name": "stderr",
     "output_type": "stream",
     "text": [
      "100%|██████████| 1357/1357 [22:24<00:00,  1.01it/s]"
     ]
    },
    {
     "name": "stdout",
     "output_type": "stream",
     "text": [
      "#7499 Dev loss: 1.678\n"
     ]
    },
    {
     "name": "stderr",
     "output_type": "stream",
     "text": [
      "\n"
     ]
    }
   ],
   "source": [
    "for i in trange(len(train_history), 7500):\n",
    "    batch = to_matrix(sample(train_lines, batch_size))\n",
    "\n",
    "    loss_i = compute_loss(model, batch)\n",
    "\n",
    "    opt.zero_grad()\n",
    "    loss_i.backward()\n",
    "    opt.step()\n",
    "\n",
    "    train_history.append((i, loss_i.item()))\n",
    "\n",
    "    if (i + 1) % 50 == 0:\n",
    "        clear_output(True)\n",
    "        plt.scatter(*zip(*train_history), alpha=0.1, label='train_loss')\n",
    "        if len(dev_history):\n",
    "            plt.plot(*zip(*dev_history), color='red', label='dev_loss')\n",
    "        plt.legend(); plt.grid(); plt.show()\n",
    "        print(\"Generated examples (tau=0.5):\")\n",
    "        for _ in range(3):\n",
    "            print(generate(model, temperature=0.5))\n",
    "\n",
    "    if (i + 1) % score_dev_every == 0:\n",
    "        print(\"Scoring dev...\")\n",
    "        dev_history.append((i, score_lines(model, dev_lines, batch_size)))\n",
    "        print('#%i Dev loss: %.3f' % dev_history[-1])\n",
    "        torch.save(model.state_dict(), 'conv_model_fixed_epoch' + str(i))\n",
    "    if (i + 1) % (score_dev_every) == 5 and i != 5004:\n",
    "        files.download('conv_model_fixed_epoch' + str(i - 5))"
   ]
  },
  {
   "cell_type": "markdown",
   "metadata": {
    "id": "M-mW6O2IB1f8"
   },
   "source": [
    "Ну ладно, лосс уже как-то медленно падает, попробуем лучше RNN'ки, чувствую, с ними гораздо лучше выйдет :)"
   ]
  },
  {
   "cell_type": "code",
   "execution_count": null,
   "metadata": {
    "colab": {
     "base_uri": "https://localhost:8080/"
    },
    "id": "1XrPS0B6CQdZ",
    "outputId": "609517ac-eb08-475d-fe57-834c459871d0"
   },
   "outputs": [
    {
     "name": "stdout",
     "output_type": "stream",
     "text": [
      "Final dev loss: 1.6781405701520966\n",
      " These Spose Frame Chtished Provide from constraint o so a search a not the isteraction of that the a\n",
      " A A pow the and edfering tome synition time spen of comprea for concine of the are a scale baald dea\n",
      " Constructions and Frannlarg Method ; Murtel prose-demame a gew a Mane semontic is dirense informate \n",
      " Eape Long Real and on finar proses to traigh the representation of methods and the pogical of thic p\n",
      " Shate In The Model ; We propose a goses and the roperten and strandus which in the and reterventes t\n",
      " Andomatiin ; We recorrent set of the proaleition and recognition of dis cenprading of stochat for co\n",
      " Mithin Payer compasitional the enpecienly a decectiog of endonited the deap leating to probale a sin\n",
      " Intenvio simulation of than at intermatic that the information shor naw beer genented discrebuct sta\n",
      " Modaling Constraint with Researce concectiving presisting the sulting a somation an testune conterin\n",
      " Image assies the tas  broce of the subtiin is to as deec a termond we sugh network the be is the unn\n"
     ]
    }
   ],
   "source": [
    "assert np.mean(train_history[:10], axis=0)[1] > np.mean(train_history[-10:], axis=0)[1], \"The model didn't converge.\"\n",
    "print(\"Final dev loss:\", dev_history[-1][-1])\n",
    "\n",
    "for i in range(10):\n",
    "    print(generate(model, temperature=0.5))"
   ]
  },
  {
   "cell_type": "markdown",
   "metadata": {
    "id": "-pFjEoPejR4i"
   },
   "source": [
    "### RNN Language Models\n",
    "\n",
    "Fixed-size architectures are reasonably good when capturing short-term dependencies, but their design prevents them from capturing any signal outside their window. We can mitigate this problem by using a __recurrent neural network__:\n",
    "\n",
    "$$ h_0 = \\vec 0 ; \\quad h_{t+1} = RNN(x_t, h_t) $$\n",
    "\n",
    "$$ p(x_t \\mid x_0, \\dots, x_{t-1}, \\theta) = dense_{softmax}(h_{t-1}) $$\n",
    "\n",
    "Such model processes one token at a time, left to right, and maintains a hidden state vector between them. Theoretically, it can learn arbitrarily long temporal dependencies given large enough hidden size.\n",
    "\n",
    "<img src='https://raw.githubusercontent.com/yandexdataschool/nlp_course/master/resources/rnn_lm.jpg' width=480px>"
   ]
  },
  {
   "cell_type": "code",
   "execution_count": 22,
   "metadata": {
    "id": "CnpPCs9ajR4i"
   },
   "outputs": [],
   "source": [
    "class RNNLanguageModel(nn.Module):\n",
    "    def __init__(self, n_tokens=n_tokens, emb_size=16, hid_size=256, rnn_type=nn.GRU,\n",
    "                 dropout_p=0.3, num_layers=3):\n",
    "        \"\"\"\n",
    "        Build a recurrent language model.\n",
    "        You are free to choose anything you want, but the recommended architecture is\n",
    "        - token embeddings\n",
    "        - one or more LSTM/GRU layers with hid size\n",
    "        - linear layer to predict logits\n",
    "\n",
    "        :note: if you use nn.RNN/GRU/LSTM, make sure you specify batch_first=True\n",
    "         With batch_first, your model operates with tensors of shape [batch_size, sequence_length, num_units]\n",
    "         Also, please read the docs carefully: they don't just return what you want them to return :)\n",
    "        \"\"\"\n",
    "        super().__init__() \n",
    "        \n",
    "        self.rnn_type = rnn_type\n",
    "        rnn_types = [nn.RNN, nn.LSTM, nn.GRU]\n",
    "        if rnn_type not in rnn_types:\n",
    "          raise ValueError(f'rnn_cell should be one of {rnn_types}')\n",
    "\n",
    "        self.n_tokens = n_tokens\n",
    "        self.emb = torch.nn.Embedding(n_tokens, emb_size)\n",
    "        self.rnn_layers = rnn_type(\n",
    "                input_size=emb_size,\n",
    "                hidden_size=hid_size,\n",
    "                num_layers=num_layers,\n",
    "                bidirectional=False,\n",
    "                dropout=dropout_p,\n",
    "                batch_first=True,\n",
    "                bias=False\n",
    "            )\n",
    "        self.Lin1 = nn.Linear(hid_size, hid_size * 2)\n",
    "        self.drop = nn.Dropout(p=0.2)\n",
    "        self.relu = nn.ReLU()\n",
    "        self.Lin2 = nn.Linear(hid_size * 2, n_tokens)\n",
    "\n",
    "    def __call__(self, input_ix):\n",
    "        \"\"\"\n",
    "        compute language model logits given input tokens\n",
    "        :param input_ix: batch of sequences with token indices, tensor: int32[batch_size, sequence_length]\n",
    "        :returns: pre-softmax linear outputs of language model [batch_size, sequence_length, n_tokens]\n",
    "            these outputs will be used as logits to compute P(x_t | x_0, ..., x_{t - 1})\n",
    "        \"\"\"\n",
    "        # input_ix ~ batch_size x seq_len\n",
    "        input_ix = self.emb(input_ix)\n",
    "        if self.rnn_type == nn.LSTM:\n",
    "          output, (hn, cn) = self.rnn_layers(input_ix)\n",
    "        else:\n",
    "          output, hn = self.rnn_layers(input_ix)\n",
    "        # output ~ batch_size x seq_len x hidden_size\n",
    "        return self.Lin2(self.drop(self.relu(self.Lin1(output)))) # output tensor should be of shape [batch_size, sequence_length, n_tokens]\n",
    "\n",
    "    def get_possible_next_tokens(self, prefix=BOS, temperature=1.0, max_len=100):\n",
    "        \"\"\" :returns: probabilities of next token, dict {token : prob} for all tokens \"\"\"\n",
    "        prefix_ix = torch.as_tensor(to_matrix([prefix]), dtype=torch.int64)\n",
    "        with torch.no_grad():\n",
    "            probs = torch.softmax(self(prefix_ix)[0, -1], dim=-1).cpu().numpy()  # shape: [n_tokens]\n",
    "        return dict(zip(tokens, probs))"
   ]
  },
  {
   "cell_type": "code",
   "execution_count": 23,
   "metadata": {
    "colab": {
     "base_uri": "https://localhost:8080/"
    },
    "id": "KAQnsPBXjR4j",
    "outputId": "96e146ad-0f01-43ac-eeec-6404334cde15"
   },
   "outputs": [
    {
     "name": "stdout",
     "output_type": "stream",
     "text": [
      "Weights: ('emb.weight', 'rnn_layers.weight_ih_l0', 'rnn_layers.weight_hh_l0', 'rnn_layers.weight_ih_l1', 'rnn_layers.weight_hh_l1', 'rnn_layers.weight_ih_l2', 'rnn_layers.weight_hh_l2', 'Lin1.weight', 'Lin1.bias', 'Lin2.weight', 'Lin2.bias')\n"
     ]
    }
   ],
   "source": [
    "model = RNNLanguageModel()\n",
    "model.eval()\n",
    "\n",
    "dummy_input_ix = torch.as_tensor(to_matrix(dummy_lines))\n",
    "dummy_logits = model(dummy_input_ix)\n",
    "\n",
    "assert isinstance(dummy_logits, torch.Tensor)\n",
    "assert dummy_logits.shape == (len(dummy_lines), max(map(len, dummy_lines)), n_tokens), \"please check output shape\"\n",
    "assert not np.allclose(dummy_logits.cpu().data.numpy().sum(-1), 1), \"please predict linear outputs, don't use softmax (maybe you've just got unlucky)\"\n",
    "print('Weights:', tuple(name for name, w in model.named_parameters()))"
   ]
  },
  {
   "cell_type": "code",
   "execution_count": 24,
   "metadata": {
    "colab": {
     "base_uri": "https://localhost:8080/"
    },
    "id": "HEJfJLnojR4j",
    "outputId": "a9df2104-bf26-49b8-ac74-9cc169c01720"
   },
   "outputs": [
    {
     "name": "stdout",
     "output_type": "stream",
     "text": [
      "Seems alright!\n"
     ]
    }
   ],
   "source": [
    "# test for lookahead\n",
    "dummy_input_ix_2 = torch.as_tensor(to_matrix([line[:3] + 'e' * (len(line) - 3) for line in dummy_lines]))\n",
    "model.eval()\n",
    "with torch.no_grad():\n",
    "  dummy_logits_2 = model(dummy_input_ix_2)\n",
    "  assert torch.allclose(dummy_logits[:, :3], dummy_logits_2[:, :3]), \"your model's predictions depend on FUTURE tokens. \" \\\n",
    "      \" Make sure you don't allow any layers to look ahead of current token.\" \\\n",
    "      \" You can also get this error if your model is not deterministic (e.g. dropout). Disable it for this test.\"\n",
    "print(\"Seems alright!\")"
   ]
  },
  {
   "cell_type": "markdown",
   "metadata": {
    "id": "JUQKsbyRjR4j"
   },
   "source": [
    "### RNN training\n",
    "\n",
    "Our RNN language model should optimize the same loss function as fixed-window model. But there's a catch. Since RNN recurrently multiplies gradients through many time-steps, gradient values may explode, [ruining](https://raw.githubusercontent.com/yandexdataschool/nlp_course/master/resources/nan.jpg) your model.\n",
    "The common solution to that problem is to clip gradients either [individually](https://www.tensorflow.org/versions/r2.0/api_docs/python/tf/clip_by_value) or [globally](https://www.tensorflow.org/versions/r2.0/api_docs/python/tf/clip_by_global_norm).\n",
    "\n",
    "Your task here is to implement the training code that minimizes the loss function. If you encounter large loss fluctuations during training, please add [gradient clipping](https://pytorch.org/docs/stable/generated/torch.nn.utils.clip_grad_norm_.html) using urls above. But its **not necessary** to use gradient clipping if you don't need it.\n",
    "\n",
    "_Note: gradient clipping is not exclusive to RNNs. Convolutional networks with enough depth often suffer from the same issue._"
   ]
  },
  {
   "cell_type": "code",
   "execution_count": 40,
   "metadata": {
    "colab": {
     "base_uri": "https://localhost:8080/"
    },
    "id": "bvh4mTrijR4j",
    "outputId": "e11d2fce-1a59-4e9e-db20-a6acc77580ac"
   },
   "outputs": [
    {
     "name": "stdout",
     "output_type": "stream",
     "text": [
      "Sample before training: Bridging.yã^WDóáÉ εà+βγ\\!ν{mεmr+χy 1ŁWö<ML7Q?'X6É/^dÉsμA^*ôÉ,\"WγP'ZY7\n",
      "\n"
     ]
    }
   ],
   "source": [
    "from sklearn.model_selection import train_test_split\n",
    "train_lines, dev_lines = train_test_split(lines, test_size=0.25, random_state=42)\n",
    "\n",
    "batch_size = 64      \n",
    "score_dev_every = 250\n",
    "train_history, dev_history = [], []\n",
    "\n",
    "model = RNNLanguageModel()\n",
    "opt = torch.optim.Adam(model.parameters())\n",
    "\n",
    "# score untrained model\n",
    "dev_history.append((0, score_lines(model, dev_lines, batch_size)))\n",
    "print(\"Sample before training:\", generate(model, 'Bridging'))"
   ]
  },
  {
   "cell_type": "code",
   "execution_count": 43,
   "metadata": {
    "colab": {
     "base_uri": "https://localhost:8080/",
     "height": 562
    },
    "id": "-3XHeQdUjR4j",
    "outputId": "3398de26-acab-4cba-ec5a-084b1d0c62b8"
   },
   "outputs": [
    {
     "data": {
      "image/png": "[encoded data removed]",
      "text/plain": [
       "<Figure size 640x480 with 1 Axes>"
      ]
     },
     "metadata": {},
     "output_type": "display_data"
    },
    {
     "name": "stdout",
     "output_type": "stream",
     "text": [
      "Generated examples (tau=0.5):\n",
      " Multiple Convolutional Network Markov Noter Analysis ; In this paper, we present a novel manified be\n",
      " Toper-estimation of Translation for Selsten Convolutional Network ; Stochastic approach and specific\n",
      " Stablish Complexity of   Deep Learning ; A new implemented of computational large segments of to cur\n",
      "Scoring dev...\n"
     ]
    },
    {
     "name": "stderr",
     "output_type": "stream",
     "text": [
      "100%|██████████| 245/245 [10:13<00:00,  2.50s/it]"
     ]
    },
    {
     "name": "stdout",
     "output_type": "stream",
     "text": [
      "#3499 Dev loss: 1.275\n"
     ]
    },
    {
     "name": "stderr",
     "output_type": "stream",
     "text": [
      "\n"
     ]
    }
   ],
   "source": [
    "from IPython.display import clear_output\n",
    "from random import sample\n",
    "from tqdm import trange\n",
    "from google.colab import files\n",
    "\n",
    "max_norm = 2.0\n",
    "\n",
    "for i in trange(len(train_history), 3500):\n",
    "    batch_size = 2\n",
    "    batch = to_matrix(sample(train_lines, batch_size))\n",
    "\n",
    "    loss_i = compute_loss(model, batch)\n",
    "\n",
    "    opt.zero_grad()\n",
    "    loss_i.backward()\n",
    "\n",
    "    torch.nn.utils.clip_grad_norm_(model.parameters(), max_norm)\n",
    "    opt.step()\n",
    "\n",
    "    train_history.append((i, float(loss_i)))\n",
    "\n",
    "    if (i + 1) % 50 == 0:\n",
    "        clear_output(True)\n",
    "        plt.scatter(*zip(*train_history), alpha=0.1, label='train_loss')\n",
    "        if len(dev_history):\n",
    "            plt.plot(*zip(*dev_history), color='red', label='dev_loss')\n",
    "        plt.legend(); plt.grid(); plt.show()\n",
    "        print(\"Generated examples (tau=0.5):\")\n",
    "        for _ in range(3):\n",
    "            print(generate(model, temperature=0.5))\n",
    "\n",
    "    if (i + 1) % score_dev_every == 0:\n",
    "        print(\"Scoring dev...\")\n",
    "        batch_size = 64\n",
    "        dev_history.append((i, score_lines(model, dev_lines, batch_size)))\n",
    "        print('#%i Dev loss: %.3f' % dev_history[-1])\n",
    "        torch.save(model.state_dict(), 'recur_model_epoch' + str(i))\n",
    "    if (i + 1) % (score_dev_every) == 5  and i != 4 + 3250:\n",
    "        files.download('recur_model_epoch' + str(i - 5))"
   ]
  },
  {
   "cell_type": "markdown",
   "metadata": {
    "id": "nmzmbiyAHdaw"
   },
   "source": [
    "Два раза запускал эту клетку, так как на 3000 эпохе подумал, что уже достаточно сошлись и переставил максимальную эпоху с 5000 на 3500. В целом, тут и лосс меньше вышел, и генерация модели заметно лучше"
   ]
  },
  {
   "cell_type": "code",
   "execution_count": 44,
   "metadata": {
    "colab": {
     "base_uri": "https://localhost:8080/"
    },
    "id": "JlbX8qdVjR4j",
    "outputId": "6d6a7ed8-52bf-4741-aead-29feb6f5bfd5"
   },
   "outputs": [
    {
     "name": "stdout",
     "output_type": "stream",
     "text": [
      "Final dev loss: 1.2749872580505\n",
      " An a nonlangle learning to the Using a structured for method for Shoth ; In this paper we propose in\n",
      " A StOract-Evolutional Supervised Problem with Deep Since ; The application of model and consider the\n",
      " Learning and Convex Extending ; For the improping of a limited by selection and classification in pr\n",
      " Deep Neural Networks for Application and Syntact Existric Paristical Neural Network ; We present a c\n",
      " A Gormalized Generated A Speech Intexting ; We present a new learning model for highly prediction an\n",
      " A Neural Learning for Artificient Learning ; We super a nowed linear matrix that the solution of the\n",
      " Convolutional Network for Interpretable Semantic Transtop ; The problem of the program problem of th\n",
      " Complex to Application in Reconstructing Deep Networks ; We present a novel new supervised to an an \n",
      " Recognition ; We propose a novel framework of the structure of the expective model in this pairs in \n",
      " Previous Fast Summarity Segmentation ; Step for structure of is conventional patterns, and it of the\n"
     ]
    }
   ],
   "source": [
    "assert np.mean(train_history[:10], axis=0)[1] > np.mean(train_history[-10:], axis=0)[1], \"The model didn't converge.\"\n",
    "print(\"Final dev loss:\", dev_history[-1][-1])\n",
    "for i in range(10):\n",
    "    print(generate(model, temperature=0.5))"
   ]
  },
  {
   "cell_type": "markdown",
   "metadata": {
    "id": "Ek_C013FKQ6s"
   },
   "source": [
    "Больше тематических, хороших слов возникает в тексте, а не просто каких-то общих"
   ]
  },
  {
   "cell_type": "code",
   "execution_count": 45,
   "metadata": {
    "colab": {
     "base_uri": "https://localhost:8080/",
     "height": 17
    },
    "id": "S-PmDiQ0ISHz",
    "outputId": "ae411706-cbfb-4310-e97b-e424ebcf4211"
   },
   "outputs": [
    {
     "data": {
      "application/javascript": [
       "\n",
       "    async function download(id, filename, size) {\n",
       "      if (!google.colab.kernel.accessAllowed) {\n",
       "        return;\n",
       "      }\n",
       "      const div = document.createElement('div');\n",
       "      const label = document.createElement('label');\n",
       "      label.textContent = `Downloading \"${filename}\": `;\n",
       "      div.appendChild(label);\n",
       "      const progress = document.createElement('progress');\n",
       "      progress.max = size;\n",
       "      div.appendChild(progress);\n",
       "      document.body.appendChild(div);\n",
       "\n",
       "      const buffers = [];\n",
       "      let downloaded = 0;\n",
       "\n",
       "      const channel = await google.colab.kernel.comms.open(id);\n",
       "      // Send a message to notify the kernel that we're ready.\n",
       "      channel.send({})\n",
       "\n",
       "      for await (const message of channel.messages) {\n",
       "        // Send a message to notify the kernel that we're ready.\n",
       "        channel.send({})\n",
       "        if (message.buffers) {\n",
       "          for (const buffer of message.buffers) {\n",
       "            buffers.push(buffer);\n",
       "            downloaded += buffer.byteLength;\n",
       "            progress.value = downloaded;\n",
       "          }\n",
       "        }\n",
       "      }\n",
       "      const blob = new Blob(buffers, {type: 'application/binary'});\n",
       "      const a = document.createElement('a');\n",
       "      a.href = window.URL.createObjectURL(blob);\n",
       "      a.download = filename;\n",
       "      div.appendChild(a);\n",
       "      a.click();\n",
       "      div.remove();\n",
       "    }\n",
       "  "
      ],
      "text/plain": [
       "<IPython.core.display.Javascript object>"
      ]
     },
     "metadata": {},
     "output_type": "display_data"
    },
    {
     "data": {
      "application/javascript": [
       "download(\"download_f0991c25-204d-4350-8427-14e856b5228a\", \"recur_model_final\", 4799174)"
      ],
      "text/plain": [
       "<IPython.core.display.Javascript object>"
      ]
     },
     "metadata": {},
     "output_type": "display_data"
    }
   ],
   "source": [
    "# Сохраним модель\n",
    "torch.save(model.state_dict(), 'recur_model_final')\n",
    "files.download('recur_model_final')"
   ]
  },
  {
   "cell_type": "markdown",
   "metadata": {
    "id": "CCqU_X1BjR4j"
   },
   "source": [
    "### Alternative sampling strategies\n",
    "\n",
    "So far we've sampled tokens from the model in proportion with their probability.\n",
    "However, this approach can sometimes generate nonsense words due to the fact that softmax probabilities of these words are never exactly zero. This issue can be somewhat mitigated with sampling temperature, but low temperature harms sampling diversity. Can we remove the nonsense words without sacrificing diversity? __Yes, we can!__ But it takes a different sampling strategy.\n",
    "\n",
    "__Top-k sampling:__ on each step, sample the next token from __k most likely__ candidates from the language model.\n",
    "\n",
    "Suppose $k=3$ and the token probabilities are $p=[0.1, 0.35, 0.05, 0.2, 0.3]$. You first need to select $k$ most likely words and set the probability of the rest to zero: $\\hat p=[0.0, 0.35, 0.0, 0.2, 0.3]$ and re-normalize:\n",
    "$p^*\\approx[0.0, 0.412, 0.0, 0.235, 0.353]$.\n",
    "\n",
    "__Nucleus sampling:__ similar to top-k sampling, but this time we select $k$ dynamically. In nucleus sampling, we sample from top-__N%__ fraction of the probability mass.\n",
    "\n",
    "Using the same  $p=[0.1, 0.35, 0.05, 0.2, 0.3]$ and nucleus N=0.9, the nucleus words consist of:\n",
    "1. most likely token $w_2$, because $p(w_2) < N$\n",
    "2. second most likely token $w_5$, $p(w_2) + p(w_5) = 0.65 < N$\n",
    "3. third most likely token $w_4$ because $p(w_2) + p(w_5) + p(w_4) = 0.85 < N$\n",
    "\n",
    "And thats it, because the next most likely word would overflow: $p(w_2) + p(w_5) + p(w_4) + p(w_1) = 0.95 > N$.\n",
    "\n",
    "After you've selected the nucleus words, you need to re-normalize them as in top-k sampling and generate the next token.\n",
    "\n",
    "Let's implement nucleus sampling variant and see if it is any good."
   ]
  },
  {
   "cell_type": "code",
   "execution_count": 28,
   "metadata": {
    "id": "1tGw89E0ElH2"
   },
   "outputs": [],
   "source": [
    "# Загружаем обученную выше модель\n",
    "model = RNNLanguageModel()\n",
    "model.load_state_dict(torch.load('recur_model_final'))\n",
    "opt = torch.optim.Adam(model.parameters())"
   ]
  },
  {
   "cell_type": "code",
   "execution_count": 51,
   "metadata": {
    "colab": {
     "base_uri": "https://localhost:8080/"
    },
    "id": "AVO4HQ_tMDCW",
    "outputId": "efe7f896-2983-4812-86ad-d3e3534ee162"
   },
   "outputs": [
    {
     "data": {
      "text/plain": [
       "RNNLanguageModel(\n",
       "  (emb): Embedding(136, 16)\n",
       "  (rnn_layers): GRU(16, 256, num_layers=3, bias=False, batch_first=True, dropout=0.3)\n",
       "  (Lin1): Linear(in_features=256, out_features=512, bias=True)\n",
       "  (drop): Dropout(p=0.2, inplace=False)\n",
       "  (relu): ReLU()\n",
       "  (Lin2): Linear(in_features=512, out_features=136, bias=True)\n",
       ")"
      ]
     },
     "execution_count": 51,
     "metadata": {},
     "output_type": "execute_result"
    }
   ],
   "source": [
    "model.eval()"
   ]
  },
  {
   "cell_type": "code",
   "execution_count": 44,
   "metadata": {
    "id": "Y2ikZT6bjR4j"
   },
   "outputs": [],
   "source": [
    "def generate_nucleus(model, prefix=BOS, nucleus=0.9, max_len=100):\n",
    "    \"\"\"\n",
    "    Generate a sequence with nucleus sampling\n",
    "    :param prefix: a string containing space-separated previous tokens\n",
    "    :param nucleus: N from the formulae above, N \\in [0, 1]\n",
    "    :param max_len: generate sequences with at most this many tokens, including prefix\n",
    "\n",
    "    :note: make sure that nucleus always contains at least one word, even if p(w*) > nucleus\n",
    "\n",
    "    \"\"\"\n",
    "    while True:\n",
    "        token_probs = model.get_possible_next_tokens(prefix)\n",
    "        tokens, probs = zip(*token_probs.items())\n",
    "\n",
    "        probs = torch.tensor(probs)\n",
    "        sorted_probs, sorted_indices = torch.sort(probs, descending=True)\n",
    "        cumulative_probs = torch.cumsum(sorted_probs, dim=-1)\n",
    "\n",
    "        sorted_indices_to_remove = cumulative_probs > nucleus\n",
    "\n",
    "        sorted_indices_to_remove[..., 1:] = sorted_indices_to_remove[..., :-1].clone()\n",
    "        sorted_indices_to_remove[..., 0] = 0\n",
    "\n",
    "        indices_to_remove = sorted_indices[sorted_indices_to_remove]\n",
    "        probs[indices_to_remove] = 0\n",
    "\n",
    "        probabilities = probs / (probs).sum() # перевзвешиваем\n",
    "        next_token = torch.multinomial(probabilities, 1) # генерируем из полученного распределения\n",
    "\n",
    "        prefix += tokens[next_token]\n",
    "        if next_token == EOS or len(prefix) > max_len: break\n",
    "    return prefix"
   ]
  },
  {
   "cell_type": "code",
   "execution_count": 45,
   "metadata": {
    "colab": {
     "base_uri": "https://localhost:8080/"
    },
    "id": "ZtG5X8rEjR4k",
    "outputId": "8664fdd7-daa3-4aea-e586-9cbbc38e84ff"
   },
   "outputs": [
    {
     "name": "stdout",
     "output_type": "stream",
     "text": [
      " Learning on Ecopresed Has Than Sorte Supports Using ; This paper, we study a fooul encode of main ca\n",
      " Continual Structure of Arbhiar Wannigns for Translation Produce A Classification and Lulgmentian Lol\n",
      " Primaristric Agent of Image Epels-fast Normation of the Features ; In this paper instruction and com\n",
      " Gaussian are Dealing Diet Predictions ; A fundamental can find an important reduces to a statistic s\n",
      " Network-Sympitation-based Recurrent Synthes ; An and eleminant Based technological structured by a s\n",
      " An Emensional object in Embedding with Constraint ; Deep efficient Clitten with one of a one of the \n",
      " A Imprensive task for Approximation in Identification ; Semistimate such as convolutional network in\n",
      " Deep Normalization for Feewfore ; This paper, we contrare the products an anather from stochastic fa\n",
      " Woid Classification Conculate Songe Treating fool Model from LL Conven   Enour ; Due study deep doma\n",
      " Maximizing Fetwork and Wabeled Nourn Is Samples with   Sinear   Etation   Images ; This paper, we de\n"
     ]
    }
   ],
   "source": [
    "for i in range(10):\n",
    "    print(generate_nucleus(model, nucleus=0.9))"
   ]
  },
  {
   "cell_type": "code",
   "execution_count": 47,
   "metadata": {
    "colab": {
     "base_uri": "https://localhost:8080/"
    },
    "id": "E5oicD4-JTr1",
    "outputId": "a0e6fb12-369f-41e4-d3ad-3de3e4e5f36a"
   },
   "outputs": [
    {
     "name": "stdout",
     "output_type": "stream",
     "text": [
      " Possible For Image to extending More Surcamial Field Complecant Engines ; This paper, we allow that \n",
      " Cultupular Sinsulation Analysis of Complexity ; We present a model that a supervised applications fo\n",
      " Projective Orents for Sparsity out Image Learning ; The method for problem is to analyze capability \n",
      " Search Manifold Face Subset-Model Setical Standit Norters ; The and the structure capace particular \n",
      " Constructive and Classifier The Space Tasks for Machine Studient Logic Models ; Convolutional neural\n",
      " Service Extension of Cases for Serform Tremanization ; We shown to the descriptive set of relative p\n",
      " Feature the Environment Setwork for   Translation for Core Recently Sumpling and Human Network ; A n\n",
      " Analysis for Predicting Explonity ; Markov method that is a state of the stration is all to subsent \n",
      " Discriminative Deep Languages for Networks ; A resulting function is computational in the manner tha\n",
      " A for result and   An Event to Deep Data   Muture   Translation    entities ; Deep resolution and pr\n"
     ]
    }
   ],
   "source": [
    "for i in range(10):\n",
    "    print(generate_nucleus(model, nucleus=0.75))"
   ]
  },
  {
   "cell_type": "code",
   "execution_count": 48,
   "metadata": {
    "colab": {
     "base_uri": "https://localhost:8080/"
    },
    "id": "lX6iDh2sJTuN",
    "outputId": "aaadf6c7-2ff0-47d3-dc05-98235bc12fc7"
   },
   "outputs": [
    {
     "name": "stdout",
     "output_type": "stream",
     "text": [
      " A Constrain A Starget Computational Matrix To Completion ; In this paper with the problem of a form \n",
      " Efficient Application of Processing and Segmentation ; This paper we present a formal function of a \n",
      " A Multi-Convergence for Analysis ; In this paper proposes a new to predict a structure of prediction\n",
      " A Application and A Sensity Resolution ; We present a method for constrained a single that can be ac\n",
      " Expert Exploration and Adaptive Population Single ; We present a novel for application of the inform\n",
      " Parsing A More Approach ; In the the problem is to the strategy of the proposed to a filter to state\n",
      " Stating Problem of Problems ; The properties of the linear in the language is the statistical space \n",
      " Complexity for Constraint Learning ; We present a new computational structure of the interaction of \n",
      " The Mase of Polition of Deep   Application of Deep Nearning ; The the studies and supervised to a se\n",
      " Convolutional Neural Network for Detection of Parsing ; We present a novel convex and a complexity i\n"
     ]
    }
   ],
   "source": [
    "for i in range(10):\n",
    "    print(generate_nucleus(model, nucleus=0.5))"
   ]
  },
  {
   "cell_type": "code",
   "execution_count": 52,
   "metadata": {
    "colab": {
     "base_uri": "https://localhost:8080/"
    },
    "id": "s4XiK7UhL3Cx",
    "outputId": "11ae5947-8c67-4acf-bffc-4ba7f01b46c0"
   },
   "outputs": [
    {
     "name": "stdout",
     "output_type": "stream",
     "text": [
      " A Structured A Sensitive Sensitive Sensitive Sensitive Sensitive Sensitive Sensitive Sensitive Sensi\n",
      " A Structured A Sensitive Sensitive Sensitive Sensitive Sensitive Sensitive Sensitive Sensitive Sensi\n",
      " A Structured A Sensitive Sensitive Sensitive Sensitive Sensitive Sensitive Sensitive Sensitive Sensi\n",
      " A Structured A Sensitive Sensitive Sensitive Sensitive Sensitive Sensitive Sensitive Sensitive Sensi\n",
      " A Structured A Sensitive Sensitive Sensitive Sensitive Sensitive Sensitive Sensitive Sensitive Sensi\n",
      " A Structured A Sensitive Sensitive Sensitive Sensitive Sensitive Sensitive Sensitive Sensitive Sensi\n",
      " A Structured A Sensitive Sensitive Sensitive Sensitive Sensitive Sensitive Sensitive Sensitive Sensi\n",
      " A Structured A Sensitive Sensitive Sensitive Sensitive Sensitive Sensitive Sensitive Sensitive Sensi\n",
      " A Structured A Sensitive Sensitive Sensitive Sensitive Sensitive Sensitive Sensitive Sensitive Sensi\n",
      " A Structured A Sensitive Sensitive Sensitive Sensitive Sensitive Sensitive Sensitive Sensitive Sensi\n"
     ]
    }
   ],
   "source": [
    "for i in range(10):\n",
    "    print(generate_nucleus(model, nucleus=0)) # Самые вероятные токены генерируем (всегда одно и то же)"
   ]
  }
 ],
 "metadata": {
  "colab": {
   "provenance": []
  },
  "kernelspec": {
   "display_name": "Python 3 (ipykernel)",
   "language": "python",
   "name": "python3"
  },
  "language_info": {
   "codemirror_mode": {
    "name": "ipython",
    "version": 3
   },
   "file_extension": ".py",
   "mimetype": "text/x-python",
   "name": "python",
   "nbconvert_exporter": "python",
   "pygments_lexer": "ipython3",
   "version": "3.9.7"
  }
 },
 "nbformat": 4,
 "nbformat_minor": 1
}
